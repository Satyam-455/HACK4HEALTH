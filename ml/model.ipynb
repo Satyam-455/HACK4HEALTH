{
 "cells": [
  {
   "cell_type": "code",
   "execution_count": null,
   "id": "534c3430",
   "metadata": {},
   "outputs": [
    {
     "name": "stderr",
     "output_type": "stream",
     "text": [
      "c:\\Users\\kavit\\AppData\\Local\\Programs\\Python\\Python312\\Lib\\site-packages\\xgboost\\training.py:183: UserWarning: [07:50:54] WARNING: C:\\actions-runner\\_work\\xgboost\\xgboost\\src\\learner.cc:738: \n",
      "Parameters: { \"use_label_encoder\" } are not used.\n",
      "\n",
      "  bst.update(dtrain, iteration=i, fobj=obj)\n"
     ]
    },
    {
     "name": "stdout",
     "output_type": "stream",
     "text": [
      "Accuracy: 0.8533\n",
      "Confusion Matrix:\n",
      "[[36  6  8]\n",
      " [ 2 48  0]\n",
      " [ 6  0 44]]\n",
      "Classification Report:\n",
      "              precision    recall  f1-score   support\n",
      "\n",
      "       Green       0.82      0.72      0.77        50\n",
      "         Red       0.89      0.96      0.92        50\n",
      "      Yellow       0.85      0.88      0.86        50\n",
      "\n",
      "    accuracy                           0.85       150\n",
      "   macro avg       0.85      0.85      0.85       150\n",
      "weighted avg       0.85      0.85      0.85       150\n",
      "\n"
     ]
    },
    {
     "data": {
      "text/plain": [
       "['flag_label_encoder.pkl']"
      ]
     },
     "execution_count": 1,
     "metadata": {},
     "output_type": "execute_result"
    }
   ],
   "source": [
    "import pandas as pd\n",
    "import numpy as np\n",
    "from sklearn.preprocessing import LabelEncoder\n",
    "from sklearn.model_selection import train_test_split\n",
    "from sklearn.metrics import accuracy_score, classification_report, confusion_matrix\n",
    "from xgboost import XGBClassifier\n",
    "import joblib\n",
    "import os\n",
    "\n",
    "df = pd.read_excel('simulated_mimic_ed_balanced_750.csv') # use .xlsx if that's your real format\n",
    "\n",
    "def map_flag(row):\n",
    "    if row['icu_admit'] == 1 or row['mortality'] == 1:\n",
    "        return 'Red'\n",
    "    elif row['hospital_admit'] == 1:\n",
    "        return 'Yellow'\n",
    "    else:\n",
    "        return 'Green'\n",
    "\n",
    "df['flag'] = df.apply(map_flag, axis=1)\n",
    "\n",
    "df = df.drop(columns=['icu_admit', 'hospital_admit', 'mortality'])\n",
    "\n",
    "num_cols = ['heart_rate', 'resp_rate', 'spo2', 'temperature', 'sbp', 'dbp']\n",
    "for col in num_cols:\n",
    "    df[col] = df[col].fillna(df[col].median())\n",
    "\n",
    "le_gender = LabelEncoder()\n",
    "df['gender_encoded'] = le_gender.fit_transform(df['gender'])\n",
    "\n",
    "le_complaint = LabelEncoder()\n",
    "df['complaint_encoded'] = le_complaint.fit_transform(df['chief_complaint'])\n",
    "\n",
    "df = df.drop(columns=['gender', 'chief_complaint'])\n",
    "\n",
    "target_encoder = LabelEncoder()\n",
    "df['flag_encoded'] = target_encoder.fit_transform(df['flag'])\n",
    "\n",
    "X = df.drop(columns=['flag', 'flag_encoded'])\n",
    "y = df['flag_encoded']\n",
    "\n",
    "X_train, X_test, y_train, y_test = train_test_split(\n",
    "    X, y, test_size=0.2, random_state=42, stratify=y\n",
    ")\n",
    "\n",
    "xgb = XGBClassifier(\n",
    "    objective='multi:softmax',\n",
    "    num_class=3,\n",
    "    use_label_encoder=False,\n",
    "    eval_metric='mlogloss',\n",
    "    random_state=42,\n",
    "    n_estimators=200,\n",
    "    max_depth=4,\n",
    "    learning_rate=0.05,\n",
    "    subsample=0.9\n",
    ")\n",
    "\n",
    "xgb.fit(X_train, y_train)\n",
    "y_pred = xgb.predict(X_test)\n",
    "\n",
    "acc = accuracy_score(y_test, y_pred)\n",
    "print(f\"Accuracy: {acc:.4f}\")\n",
    "print(\"Confusion Matrix:\")\n",
    "print(confusion_matrix(y_test, y_pred))\n",
    "print(\"Classification Report:\")\n",
    "print(classification_report(y_test, y_pred, target_names=target_encoder.classes_))\n",
    "\n",
    "joblib.dump(xgb, 'model.pkl')\n",
    "current_dir = os.getcwd()\n",
    "gender_encoder_path = os.path.join(current_dir, \"gender_encoder.pkl\")\n",
    "joblib.dump(le_gender, gender_encoder_path)\n",
    "complaint_encoder_path = os.path.join(current_dir, \"complaint_encoder.pkl\")\n",
    "joblib.dump(le_complaint, 'complaint_encoder.pkl')\n",
    "joblib.dump(target_encoder, 'flag_label_encoder.pkl')"
   ]
  }
 ],
 "metadata": {
  "kernelspec": {
   "display_name": "Python 3",
   "language": "python",
   "name": "python3"
  },
  "language_info": {
   "codemirror_mode": {
    "name": "ipython",
    "version": 3
   },
   "file_extension": ".py",
   "mimetype": "text/x-python",
   "name": "python",
   "nbconvert_exporter": "python",
   "pygments_lexer": "ipython3",
   "version": "3.12.2"
  }
 },
 "nbformat": 4,
 "nbformat_minor": 5
}
